{
 "cells": [
  {
   "cell_type": "markdown",
   "metadata": {},
   "source": [
    "# EDA y procesamiento inicial\n",
    "- Tipos de características.\n",
    "- Tratamiento de nulos/valores faltantes.\n",
    "- Tratamiento de outliers\n",
    "- Limieza en general."
   ]
  }
 ],
 "metadata": {
  "language_info": {
   "name": "python"
  }
 },
 "nbformat": 4,
 "nbformat_minor": 2
}
